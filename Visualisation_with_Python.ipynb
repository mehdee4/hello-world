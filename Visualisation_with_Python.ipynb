{
  "nbformat": 4,
  "nbformat_minor": 0,
  "metadata": {
    "kernelspec": {
      "display_name": "Python 3",
      "language": "python",
      "name": "python3"
    },
    "language_info": {
      "codemirror_mode": {
        "name": "ipython",
        "version": 3
      },
      "file_extension": ".py",
      "mimetype": "text/x-python",
      "name": "python",
      "nbconvert_exporter": "python",
      "pygments_lexer": "ipython3",
      "version": "3.7.6"
    },
    "colab": {
      "name": "Visualisation with Python.ipynb",
      "provenance": [],
      "include_colab_link": true
    }
  },
  "cells": [
    {
      "cell_type": "markdown",
      "metadata": {
        "id": "view-in-github",
        "colab_type": "text"
      },
      "source": [
        "<a href=\"https://colab.research.google.com/github/mehdee4/hello-world/blob/master/Visualisation_with_Python.ipynb\" target=\"_parent\"><img src=\"https://colab.research.google.com/assets/colab-badge.svg\" alt=\"Open In Colab\"/></a>"
      ]
    },
    {
      "cell_type": "code",
      "metadata": {
        "id": "9G14rioOF02W",
        "colab_type": "code",
        "colab": {}
      },
      "source": [
        "#importing liberaries that we need"
      ],
      "execution_count": null,
      "outputs": []
    },
    {
      "cell_type": "code",
      "metadata": {
        "id": "CTSRUuFUF02q",
        "colab_type": "code",
        "colab": {}
      },
      "source": [
        "import pandas as pandas\n",
        "import numpy as numpy\n",
        "from matplotlib import pyplot as pyplot "
      ],
      "execution_count": null,
      "outputs": []
    },
    {
      "cell_type": "code",
      "metadata": {
        "id": "i2cM35aRF02-",
        "colab_type": "code",
        "colab": {}
      },
      "source": [
        "#ploting first project after making list"
      ],
      "execution_count": null,
      "outputs": []
    },
    {
      "cell_type": "code",
      "metadata": {
        "id": "0Qtrdj3nF03I",
        "colab_type": "code",
        "colab": {},
        "outputId": "bbff265f-d887-486b-bc85-251230f0274b"
      },
      "source": [
        "x = [1, 2 ,3 ]\n",
        "y = [1, 4, 9]\n",
        "z = [10, 5, 0]\n",
        "pyplot.plot (x, y)\n",
        "pyplot.plot (x, z)\n",
        "pyplot.title = (\"My charming visual\")\n",
        "pyplot.xlabl = (\"x\")\n",
        "pyplot.ylabl = (\"y and z \")\n",
        "pyplot.legends = ([\"this is Y\", \"this is z\"])\n",
        "pyplot.show"
      ],
      "execution_count": null,
      "outputs": [
        {
          "output_type": "execute_result",
          "data": {
            "text/plain": [
              "<function matplotlib.pyplot.show>"
            ]
          },
          "metadata": {
            "tags": []
          },
          "execution_count": 4
        },
        {
          "output_type": "display_data",
          "data": {
            "image/png": "[encoded data removed]",
            "text/plain": [
              "<Figure size 432x288 with 1 Axes>"
            ]
          },
          "metadata": {
            "tags": [],
            "needs_background": "light"
          }
        }
      ]
    },
    {
      "cell_type": "code",
      "metadata": {
        "id": "jT7QS_anF03S",
        "colab_type": "code",
        "colab": {}
      },
      "source": [
        "#importing data from a csv. csv file must be in same folder as project folder\n",
        "data3 = pandas.read_csv ('countries.csv')"
      ],
      "execution_count": null,
      "outputs": []
    },
    {
      "cell_type": "code",
      "metadata": {
        "id": "V57tpfiHF03Y",
        "colab_type": "code",
        "colab": {},
        "outputId": "bc694a57-da82-41fe-95ba-dc0f47f79cf3"
      },
      "source": [
        "data3.head(5)"
      ],
      "execution_count": null,
      "outputs": [
        {
          "output_type": "execute_result",
          "data": {
            "text/html": [
              "<div>\n",
              "<style scoped>\n",
              "    .dataframe tbody tr th:only-of-type {\n",
              "        vertical-align: middle;\n",
              "    }\n",
              "\n",
              "    .dataframe tbody tr th {\n",
              "        vertical-align: top;\n",
              "    }\n",
              "\n",
              "    .dataframe thead th {\n",
              "        text-align: right;\n",
              "    }\n",
              "</style>\n",
              "<table border=\"1\" class=\"dataframe\">\n",
              "  <thead>\n",
              "    <tr style=\"text-align: right;\">\n",
              "      <th></th>\n",
              "      <th>country</th>\n",
              "      <th>year</th>\n",
              "      <th>population</th>\n",
              "    </tr>\n",
              "  </thead>\n",
              "  <tbody>\n",
              "    <tr>\n",
              "      <th>0</th>\n",
              "      <td>Afghanistan</td>\n",
              "      <td>1952</td>\n",
              "      <td>8425333</td>\n",
              "    </tr>\n",
              "    <tr>\n",
              "      <th>1</th>\n",
              "      <td>Afghanistan</td>\n",
              "      <td>1957</td>\n",
              "      <td>9240934</td>\n",
              "    </tr>\n",
              "    <tr>\n",
              "      <th>2</th>\n",
              "      <td>Afghanistan</td>\n",
              "      <td>1962</td>\n",
              "      <td>10267083</td>\n",
              "    </tr>\n",
              "    <tr>\n",
              "      <th>3</th>\n",
              "      <td>Afghanistan</td>\n",
              "      <td>1967</td>\n",
              "      <td>11537966</td>\n",
              "    </tr>\n",
              "    <tr>\n",
              "      <th>4</th>\n",
              "      <td>Afghanistan</td>\n",
              "      <td>1972</td>\n",
              "      <td>13079460</td>\n",
              "    </tr>\n",
              "  </tbody>\n",
              "</table>\n",
              "</div>"
            ],
            "text/plain": [
              "       country  year  population\n",
              "0  Afghanistan  1952     8425333\n",
              "1  Afghanistan  1957     9240934\n",
              "2  Afghanistan  1962    10267083\n",
              "3  Afghanistan  1967    11537966\n",
              "4  Afghanistan  1972    13079460"
            ]
          },
          "metadata": {
            "tags": []
          },
          "execution_count": 6
        }
      ]
    },
    {
      "cell_type": "code",
      "metadata": {
        "id": "do7O3f8wF03i",
        "colab_type": "code",
        "colab": {}
      },
      "source": [
        "#compare us and china\n",
        "\n",
        "china= data3[\n",
        "    data3['country'] =='China'\n",
        "]"
      ],
      "execution_count": null,
      "outputs": []
    },
    {
      "cell_type": "code",
      "metadata": {
        "id": "LyYvNW9dF03n",
        "colab_type": "code",
        "colab": {}
      },
      "source": [
        "us = data3[\n",
        "    data3['country']== 'United States'\n",
        "]"
      ],
      "execution_count": null,
      "outputs": []
    },
    {
      "cell_type": "code",
      "metadata": {
        "id": "UrQqq65JF03s",
        "colab_type": "code",
        "colab": {},
        "outputId": "4023031f-f1d9-4ddf-8f57-7f5af162fe92"
      },
      "source": [
        "us"
      ],
      "execution_count": null,
      "outputs": [
        {
          "output_type": "execute_result",
          "data": {
            "text/html": [
              "<div>\n",
              "<style scoped>\n",
              "    .dataframe tbody tr th:only-of-type {\n",
              "        vertical-align: middle;\n",
              "    }\n",
              "\n",
              "    .dataframe tbody tr th {\n",
              "        vertical-align: top;\n",
              "    }\n",
              "\n",
              "    .dataframe thead th {\n",
              "        text-align: right;\n",
              "    }\n",
              "</style>\n",
              "<table border=\"1\" class=\"dataframe\">\n",
              "  <thead>\n",
              "    <tr style=\"text-align: right;\">\n",
              "      <th></th>\n",
              "      <th>country</th>\n",
              "      <th>year</th>\n",
              "      <th>population</th>\n",
              "    </tr>\n",
              "  </thead>\n",
              "  <tbody>\n",
              "    <tr>\n",
              "      <th>1608</th>\n",
              "      <td>United States</td>\n",
              "      <td>1952</td>\n",
              "      <td>157553000</td>\n",
              "    </tr>\n",
              "    <tr>\n",
              "      <th>1609</th>\n",
              "      <td>United States</td>\n",
              "      <td>1957</td>\n",
              "      <td>171984000</td>\n",
              "    </tr>\n",
              "    <tr>\n",
              "      <th>1610</th>\n",
              "      <td>United States</td>\n",
              "      <td>1962</td>\n",
              "      <td>186538000</td>\n",
              "    </tr>\n",
              "    <tr>\n",
              "      <th>1611</th>\n",
              "      <td>United States</td>\n",
              "      <td>1967</td>\n",
              "      <td>198712000</td>\n",
              "    </tr>\n",
              "    <tr>\n",
              "      <th>1612</th>\n",
              "      <td>United States</td>\n",
              "      <td>1972</td>\n",
              "      <td>209896000</td>\n",
              "    </tr>\n",
              "    <tr>\n",
              "      <th>1613</th>\n",
              "      <td>United States</td>\n",
              "      <td>1977</td>\n",
              "      <td>220239000</td>\n",
              "    </tr>\n",
              "    <tr>\n",
              "      <th>1614</th>\n",
              "      <td>United States</td>\n",
              "      <td>1982</td>\n",
              "      <td>232187835</td>\n",
              "    </tr>\n",
              "    <tr>\n",
              "      <th>1615</th>\n",
              "      <td>United States</td>\n",
              "      <td>1987</td>\n",
              "      <td>242803533</td>\n",
              "    </tr>\n",
              "    <tr>\n",
              "      <th>1616</th>\n",
              "      <td>United States</td>\n",
              "      <td>1992</td>\n",
              "      <td>256894189</td>\n",
              "    </tr>\n",
              "    <tr>\n",
              "      <th>1617</th>\n",
              "      <td>United States</td>\n",
              "      <td>1997</td>\n",
              "      <td>272911760</td>\n",
              "    </tr>\n",
              "    <tr>\n",
              "      <th>1618</th>\n",
              "      <td>United States</td>\n",
              "      <td>2002</td>\n",
              "      <td>287675526</td>\n",
              "    </tr>\n",
              "    <tr>\n",
              "      <th>1619</th>\n",
              "      <td>United States</td>\n",
              "      <td>2007</td>\n",
              "      <td>301139947</td>\n",
              "    </tr>\n",
              "  </tbody>\n",
              "</table>\n",
              "</div>"
            ],
            "text/plain": [
              "            country  year  population\n",
              "1608  United States  1952   157553000\n",
              "1609  United States  1957   171984000\n",
              "1610  United States  1962   186538000\n",
              "1611  United States  1967   198712000\n",
              "1612  United States  1972   209896000\n",
              "1613  United States  1977   220239000\n",
              "1614  United States  1982   232187835\n",
              "1615  United States  1987   242803533\n",
              "1616  United States  1992   256894189\n",
              "1617  United States  1997   272911760\n",
              "1618  United States  2002   287675526\n",
              "1619  United States  2007   301139947"
            ]
          },
          "metadata": {
            "tags": []
          },
          "execution_count": 9
        }
      ]
    },
    {
      "cell_type": "code",
      "metadata": {
        "id": "qlPMuhy7F033",
        "colab_type": "code",
        "colab": {},
        "outputId": "2a369c38-b475-4690-8d32-5442bdb4eae0"
      },
      "source": [
        "pyplot.plot (china['year'], china['population']/10**6)\n",
        "pyplot.plot (us['year'], us['population']/10**6)\n",
        "pyplot.legend(['china','us'])\n",
        "pyplot.xlabel ('Year')\n",
        "pyplot.ylabel ('population')\n",
        "pyplot.show()"
      ],
      "execution_count": null,
      "outputs": [
        {
          "output_type": "display_data",
          "data": {
            "image/png": "[encoded data removed]",
            "text/plain": [
              "<Figure size 432x288 with 1 Axes>"
            ]
          },
          "metadata": {
            "tags": [],
            "needs_background": "light"
          }
        }
      ]
    },
    {
      "cell_type": "code",
      "metadata": {
        "id": "Y5QksrMKF04Q",
        "colab_type": "code",
        "colab": {}
      },
      "source": [
        "#then we want to  plot growth procentage. So we do as follow"
      ],
      "execution_count": null,
      "outputs": []
    },
    {
      "cell_type": "code",
      "metadata": {
        "id": "bA953EcCF04V",
        "colab_type": "code",
        "colab": {},
        "outputId": "19ab4e9d-d35e-4bf1-f2e5-8b33a60dcdd1"
      },
      "source": [
        "us['population'].head (3)"
      ],
      "execution_count": null,
      "outputs": [
        {
          "output_type": "execute_result",
          "data": {
            "text/plain": [
              "1608    157553000\n",
              "1609    171984000\n",
              "1610    186538000\n",
              "Name: population, dtype: int64"
            ]
          },
          "metadata": {
            "tags": []
          },
          "execution_count": 12
        }
      ]
    },
    {
      "cell_type": "code",
      "metadata": {
        "id": "T5xmGS0LF04a",
        "colab_type": "code",
        "colab": {},
        "outputId": "1aa3e659-c17e-4513-a429-caf6e22ace7b"
      },
      "source": [
        "us['population'].head(3) / us['population'].iloc [0] * 100"
      ],
      "execution_count": null,
      "outputs": [
        {
          "output_type": "execute_result",
          "data": {
            "text/plain": [
              "1608    100.000000\n",
              "1609    109.159457\n",
              "1610    118.396984\n",
              "Name: population, dtype: float64"
            ]
          },
          "metadata": {
            "tags": []
          },
          "execution_count": 13
        }
      ]
    },
    {
      "cell_type": "code",
      "metadata": {
        "id": "2n_cZfSbF04g",
        "colab_type": "code",
        "colab": {},
        "outputId": "44266510-0a7f-405e-80e9-b92638126f5a"
      },
      "source": [
        "pyplot.plot (us['year'], us['population'] / us['population'].iloc [0] * 100)\n",
        "pyplot.plot (china['year'], china['population'] / china['population'].iloc [0] * 100)\n",
        "\n",
        "pyplot.legend (['United States', 'China'])\n",
        "pyplot.xlabel ('Year')\n",
        "pyplot.ylabel ('population')\n",
        "pyplot.show()"
      ],
      "execution_count": null,
      "outputs": [
        {
          "output_type": "display_data",
          "data": {
            "image/png": "[encoded data removed]",
            "text/plain": [
              "<Figure size 432x288 with 1 Axes>"
            ]
          },
          "metadata": {
            "tags": [],
            "needs_background": "light"
          }
        }
      ]
    },
    {
      "cell_type": "code",
      "metadata": {
        "id": "qGieiYxtF04l",
        "colab_type": "code",
        "colab": {},
        "outputId": "b95ba2f2-1adc-42c7-d0ee-980a92fa902a"
      },
      "source": [
        "#Box Plot\n",
        "us['population'].plot.box (grid = 'True')"
      ],
      "execution_count": null,
      "outputs": [
        {
          "output_type": "execute_result",
          "data": {
            "text/plain": [
              "<matplotlib.axes._subplots.AxesSubplot at 0x119348bd0>"
            ]
          },
          "metadata": {
            "tags": []
          },
          "execution_count": 28
        },
        {
          "output_type": "display_data",
          "data": {
            "image/png": "[encoded data removed]",
            "text/plain": [
              "<Figure size 432x288 with 1 Axes>"
            ]
          },
          "metadata": {
            "tags": [],
            "needs_background": "light"
          }
        }
      ]
    },
    {
      "cell_type": "code",
      "metadata": {
        "id": "b1Sksw5eF04r",
        "colab_type": "code",
        "colab": {},
        "outputId": "caefbfa2-89f0-41bf-bcb9-38551e0ba7d9"
      },
      "source": [
        "\n",
        "pyplot.scatter (data3['year'], data3['population'])"
      ],
      "execution_count": null,
      "outputs": [
        {
          "output_type": "execute_result",
          "data": {
            "text/plain": [
              "<matplotlib.collections.PathCollection at 0x11bf64210>"
            ]
          },
          "metadata": {
            "tags": []
          },
          "execution_count": 64
        },
        {
          "output_type": "display_data",
          "data": {
            "image/png": "[encoded data removed]",
            "text/plain": [
              "<Figure size 432x288 with 1 Axes>"
            ]
          },
          "metadata": {
            "tags": [],
            "needs_background": "light"
          }
        }
      ]
    },
    {
      "cell_type": "code",
      "metadata": {
        "id": "o7wpDdDAF04u",
        "colab_type": "code",
        "colab": {},
        "outputId": "2d7135b5-4b18-420d-9b2d-3955e110aae6"
      },
      "source": [
        "cc= data3.groupby(['country'])['population'].max().to_frame()\n",
        "\n",
        "cc = cc.reset_index()\n",
        "\n",
        "\n",
        "\n",
        "cc.sort_values( by = ['population'], ascending = False, inplace = True)\n",
        "cc.head(6)\n",
        "\n"
      ],
      "execution_count": null,
      "outputs": [
        {
          "output_type": "execute_result",
          "data": {
            "text/html": [
              "<div>\n",
              "<style scoped>\n",
              "    .dataframe tbody tr th:only-of-type {\n",
              "        vertical-align: middle;\n",
              "    }\n",
              "\n",
              "    .dataframe tbody tr th {\n",
              "        vertical-align: top;\n",
              "    }\n",
              "\n",
              "    .dataframe thead th {\n",
              "        text-align: right;\n",
              "    }\n",
              "</style>\n",
              "<table border=\"1\" class=\"dataframe\">\n",
              "  <thead>\n",
              "    <tr style=\"text-align: right;\">\n",
              "      <th></th>\n",
              "      <th>country</th>\n",
              "      <th>population</th>\n",
              "    </tr>\n",
              "  </thead>\n",
              "  <tbody>\n",
              "    <tr>\n",
              "      <th>24</th>\n",
              "      <td>China</td>\n",
              "      <td>1318683096</td>\n",
              "    </tr>\n",
              "    <tr>\n",
              "      <th>58</th>\n",
              "      <td>India</td>\n",
              "      <td>1110396331</td>\n",
              "    </tr>\n",
              "    <tr>\n",
              "      <th>134</th>\n",
              "      <td>United States</td>\n",
              "      <td>301139947</td>\n",
              "    </tr>\n",
              "    <tr>\n",
              "      <th>59</th>\n",
              "      <td>Indonesia</td>\n",
              "      <td>223547000</td>\n",
              "    </tr>\n",
              "    <tr>\n",
              "      <th>14</th>\n",
              "      <td>Brazil</td>\n",
              "      <td>190010647</td>\n",
              "    </tr>\n",
              "    <tr>\n",
              "      <th>97</th>\n",
              "      <td>Pakistan</td>\n",
              "      <td>169270617</td>\n",
              "    </tr>\n",
              "  </tbody>\n",
              "</table>\n",
              "</div>"
            ],
            "text/plain": [
              "           country  population\n",
              "24           China  1318683096\n",
              "58           India  1110396331\n",
              "134  United States   301139947\n",
              "59       Indonesia   223547000\n",
              "14          Brazil   190010647\n",
              "97        Pakistan   169270617"
            ]
          },
          "metadata": {
            "tags": []
          },
          "execution_count": 167
        }
      ]
    },
    {
      "cell_type": "code",
      "metadata": {
        "id": "e4IWIpygF04y",
        "colab_type": "code",
        "colab": {}
      },
      "source": [
        "cc= cc[cc['country'].isin(['Brazil', 'Indonesia', 'United States', 'Pakistan'])]"
      ],
      "execution_count": null,
      "outputs": []
    },
    {
      "cell_type": "code",
      "metadata": {
        "id": "M0540qT3F041",
        "colab_type": "code",
        "colab": {},
        "outputId": "1dc9b7ee-74e5-4342-eaf5-807d148bbc6a"
      },
      "source": [
        "pyplot.scatter (cc['country'], cc['population'])"
      ],
      "execution_count": null,
      "outputs": [
        {
          "output_type": "execute_result",
          "data": {
            "text/plain": [
              "<matplotlib.collections.PathCollection at 0x11c763e50>"
            ]
          },
          "metadata": {
            "tags": []
          },
          "execution_count": 171
        },
        {
          "output_type": "display_data",
          "data": {
            "image/png": "[encoded data removed]",
            "text/plain": [
              "<Figure size 432x288 with 1 Axes>"
            ]
          },
          "metadata": {
            "tags": [],
            "needs_background": "light"
          }
        }
      ]
    },
    {
      "cell_type": "code",
      "metadata": {
        "id": "ldcn_n-3F044",
        "colab_type": "code",
        "colab": {}
      },
      "source": [
        ""
      ],
      "execution_count": null,
      "outputs": []
    }
  ]
}