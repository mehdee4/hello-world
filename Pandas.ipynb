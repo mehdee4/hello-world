{
  "nbformat": 4,
  "nbformat_minor": 0,
  "metadata": {
    "kernelspec": {
      "display_name": "Python 3",
      "language": "python",
      "name": "python3"
    },
    "language_info": {
      "codemirror_mode": {
        "name": "ipython",
        "version": 3
      },
      "file_extension": ".py",
      "mimetype": "text/x-python",
      "name": "python",
      "nbconvert_exporter": "python",
      "pygments_lexer": "ipython3",
      "version": "3.7.6"
    },
    "colab": {
      "name": "Pandas.ipynb",
      "provenance": [],
      "include_colab_link": true
    }
  },
  "cells": [
    {
      "cell_type": "markdown",
      "metadata": {
        "id": "view-in-github",
        "colab_type": "text"
      },
      "source": [
        "<a href=\"https://colab.research.google.com/github/mehdee4/hello-world/blob/master/Pandas.ipynb\" target=\"_parent\"><img src=\"https://colab.research.google.com/assets/colab-badge.svg\" alt=\"Open In Colab\"/></a>"
      ]
    },
    {
      "cell_type": "code",
      "metadata": {
        "id": "uT_GGEUKFmUN",
        "colab_type": "code",
        "colab": {}
      },
      "source": [
        "#importing liberaries that we need"
      ],
      "execution_count": null,
      "outputs": []
    },
    {
      "cell_type": "code",
      "metadata": {
        "id": "lU7IRCaWFmUd",
        "colab_type": "code",
        "colab": {}
      },
      "source": [
        "import pandas as pandas\n",
        "import numpy as numpy\n",
        "from matplotlib import pyplot as pyplot"
      ],
      "execution_count": null,
      "outputs": []
    },
    {
      "cell_type": "code",
      "metadata": {
        "id": "N6fVAC_0FmUq",
        "colab_type": "code",
        "colab": {}
      },
      "source": [
        "#input dataframe"
      ],
      "execution_count": null,
      "outputs": []
    },
    {
      "cell_type": "code",
      "metadata": {
        "id": "9HQFhp9GFmU0",
        "colab_type": "code",
        "colab": {},
        "outputId": "677ecc9b-0727-47fa-9623-411e377731cb"
      },
      "source": [
        "people = {\n",
        "         'first': ['Mehdi', 'Somi', 'Bita'],\n",
        "         'last' : ['Afsharha', 'Ghelichkhani', 'Afs'],\n",
        "         'email': ['mehdi@gmial.com', 'somi@gmail.com', 'bita@gmail.com']}\n",
        "\n",
        "people = pandas.DataFrame(people, dtype = numpy.int8)\n",
        "people.info()"
      ],
      "execution_count": null,
      "outputs": [
        {
          "output_type": "stream",
          "text": [
            "<class 'pandas.core.frame.DataFrame'>\n",
            "RangeIndex: 3 entries, 0 to 2\n",
            "Data columns (total 3 columns):\n",
            " #   Column  Non-Null Count  Dtype \n",
            "---  ------  --------------  ----- \n",
            " 0   first   3 non-null      object\n",
            " 1   last    3 non-null      object\n",
            " 2   email   3 non-null      object\n",
            "dtypes: object(3)\n",
            "memory usage: 200.0+ bytes\n"
          ],
          "name": "stdout"
        }
      ]
    },
    {
      "cell_type": "code",
      "metadata": {
        "id": "bKfN_g7wFmU7",
        "colab_type": "code",
        "colab": {}
      },
      "source": [
        "# import file"
      ],
      "execution_count": null,
      "outputs": []
    },
    {
      "cell_type": "code",
      "metadata": {
        "id": "GqTfkeJNFmVB",
        "colab_type": "code",
        "colab": {}
      },
      "source": [
        "address1= \"/Users/mehdiafsharha/Desktop/Python Tutorial 1/countries.csv\"\n",
        "address2= '/Users/mehdiafsharha/Desktop/Python Tutorial 1/Data/survey/results.csv'\n",
        "address3= '/Users/mehdiafsharha/Desktop/Python Tutorial 1/Data/survey/schema.csv'\n",
        "address4= '/Users/mehdiafsharha/Desktop/Python Tutorial 1/Data/Test/Test1.csv'\n",
        "\n",
        "\n",
        "#importing data from a csv. csv file must be in same folder as project folder\n",
        "data3 = pandas.read_csv ('countries.csv')\n",
        "survey = pandas.read_csv (address2)\n",
        "#defining index when importing\n",
        "surveySchema= pandas.read_csv (address3, index_col = 'Column')\n",
        "test = pandas.read_csv (address4)"
      ],
      "execution_count": null,
      "outputs": []
    },
    {
      "cell_type": "code",
      "metadata": {
        "id": "sji5cvV7FmVG",
        "colab_type": "code",
        "colab": {}
      },
      "source": [
        "#to export a dataframe as csv"
      ],
      "execution_count": null,
      "outputs": []
    },
    {
      "cell_type": "code",
      "metadata": {
        "id": "3LDkypBOFmVM",
        "colab_type": "code",
        "colab": {}
      },
      "source": [
        "path1 =  \"/Users/mehdiafsharha/Desktop/Python Tutorial 1/exported/countries_exported_test.csv\"\n",
        "data3.to_csv (path1)"
      ],
      "execution_count": null,
      "outputs": []
    },
    {
      "cell_type": "code",
      "metadata": {
        "id": "vc5u51ifFmVR",
        "colab_type": "code",
        "colab": {}
      },
      "source": [
        "###########################################################################################\n",
        "#pandas settings"
      ],
      "execution_count": null,
      "outputs": []
    },
    {
      "cell_type": "code",
      "metadata": {
        "id": "y4RMsFWWFmVX",
        "colab_type": "code",
        "colab": {}
      },
      "source": [
        "pandas.set_option('display.max_columns', 8)\n",
        "pandas.set_option('display.max_rows', 8)"
      ],
      "execution_count": null,
      "outputs": []
    },
    {
      "cell_type": "code",
      "metadata": {
        "id": "l8hI4etLFmVb",
        "colab_type": "code",
        "colab": {}
      },
      "source": [
        "#tail, head and showing column"
      ],
      "execution_count": null,
      "outputs": []
    },
    {
      "cell_type": "code",
      "metadata": {
        "id": "uaLztzt3FmVf",
        "colab_type": "code",
        "colab": {},
        "outputId": "a801ebd4-03dc-4ba3-ef9c-b7b4ebd7ff63"
      },
      "source": [
        "data3.head(3)\n",
        "data3[['country', 'population']].head(2)"
      ],
      "execution_count": null,
      "outputs": [
        {
          "output_type": "execute_result",
          "data": {
            "text/html": [
              "<div>\n",
              "<style scoped>\n",
              "    .dataframe tbody tr th:only-of-type {\n",
              "        vertical-align: middle;\n",
              "    }\n",
              "\n",
              "    .dataframe tbody tr th {\n",
              "        vertical-align: top;\n",
              "    }\n",
              "\n",
              "    .dataframe thead th {\n",
              "        text-align: right;\n",
              "    }\n",
              "</style>\n",
              "<table border=\"1\" class=\"dataframe\">\n",
              "  <thead>\n",
              "    <tr style=\"text-align: right;\">\n",
              "      <th></th>\n",
              "      <th>country</th>\n",
              "      <th>population</th>\n",
              "    </tr>\n",
              "  </thead>\n",
              "  <tbody>\n",
              "    <tr>\n",
              "      <th>0</th>\n",
              "      <td>Afghanistan</td>\n",
              "      <td>8425333</td>\n",
              "    </tr>\n",
              "    <tr>\n",
              "      <th>1</th>\n",
              "      <td>Afghanistan</td>\n",
              "      <td>9240934</td>\n",
              "    </tr>\n",
              "  </tbody>\n",
              "</table>\n",
              "</div>"
            ],
            "text/plain": [
              "       country  population\n",
              "0  Afghanistan     8425333\n",
              "1  Afghanistan     9240934"
            ]
          },
          "metadata": {
            "tags": []
          },
          "execution_count": 12
        }
      ]
    },
    {
      "cell_type": "code",
      "metadata": {
        "id": "tyyD9FVnFmVk",
        "colab_type": "code",
        "colab": {}
      },
      "source": [
        "###########################################################################################\n",
        "#checking type and shape of data"
      ],
      "execution_count": null,
      "outputs": []
    },
    {
      "cell_type": "code",
      "metadata": {
        "id": "mZBJIOQYFmVo",
        "colab_type": "code",
        "colab": {},
        "outputId": "9184530c-e928-426b-dd39-a29cfd991092"
      },
      "source": [
        "survey.shape"
      ],
      "execution_count": null,
      "outputs": [
        {
          "output_type": "execute_result",
          "data": {
            "text/plain": [
              "(88883, 85)"
            ]
          },
          "metadata": {
            "tags": []
          },
          "execution_count": 14
        }
      ]
    },
    {
      "cell_type": "code",
      "metadata": {
        "id": "g_99IpJGFmVs",
        "colab_type": "code",
        "colab": {},
        "outputId": "a5a497a9-c664-41cc-d8ec-3649c7753aa6"
      },
      "source": [
        "data3.info()"
      ],
      "execution_count": null,
      "outputs": [
        {
          "output_type": "stream",
          "text": [
            "<class 'pandas.core.frame.DataFrame'>\n",
            "RangeIndex: 1704 entries, 0 to 1703\n",
            "Data columns (total 3 columns):\n",
            " #   Column      Non-Null Count  Dtype \n",
            "---  ------      --------------  ----- \n",
            " 0   country     1704 non-null   object\n",
            " 1   year        1704 non-null   int64 \n",
            " 2   population  1704 non-null   int64 \n",
            "dtypes: int64(2), object(1)\n",
            "memory usage: 40.1+ KB\n"
          ],
          "name": "stdout"
        }
      ]
    },
    {
      "cell_type": "code",
      "metadata": {
        "id": "OFdEJxbrFmVx",
        "colab_type": "code",
        "colab": {},
        "outputId": "c94b070f-ce8d-452e-a1f7-af1e453607e0"
      },
      "source": [
        "type (survey)"
      ],
      "execution_count": null,
      "outputs": [
        {
          "output_type": "execute_result",
          "data": {
            "text/plain": [
              "pandas.core.frame.DataFrame"
            ]
          },
          "metadata": {
            "tags": []
          },
          "execution_count": 16
        }
      ]
    },
    {
      "cell_type": "code",
      "metadata": {
        "id": "WKbKhFcqFmV1",
        "colab_type": "code",
        "colab": {}
      },
      "source": [
        "#Convert a data type to another type"
      ],
      "execution_count": null,
      "outputs": []
    },
    {
      "cell_type": "code",
      "metadata": {
        "id": "89PHVxFWFmV5",
        "colab_type": "code",
        "colab": {}
      },
      "source": [
        "data3['year']=data3['year'].astype('object')\n",
        "data3['year'] = data3['year'].astype('int64')"
      ],
      "execution_count": null,
      "outputs": []
    },
    {
      "cell_type": "code",
      "metadata": {
        "id": "m3yUXlv8FmV8",
        "colab_type": "code",
        "colab": {}
      },
      "source": [
        "#iloc and loc"
      ],
      "execution_count": null,
      "outputs": []
    },
    {
      "cell_type": "code",
      "metadata": {
        "id": "fIcOJ-S4FmWA",
        "colab_type": "code",
        "colab": {},
        "outputId": "19e3b315-d793-48b4-a198-122ae44b401c"
      },
      "source": [
        "data3 ['country'].iloc[1000: 1002] #selecting country iten on row 1000\n",
        "survey.loc[0: 1,  'Hobbyist' : 'Employment'] # loc\n",
        "survey.loc[0: 1, ['MainBranch', 'Hobbyist']] # another loc"
      ],
      "execution_count": null,
      "outputs": [
        {
          "output_type": "execute_result",
          "data": {
            "text/html": [
              "<div>\n",
              "<style scoped>\n",
              "    .dataframe tbody tr th:only-of-type {\n",
              "        vertical-align: middle;\n",
              "    }\n",
              "\n",
              "    .dataframe tbody tr th {\n",
              "        vertical-align: top;\n",
              "    }\n",
              "\n",
              "    .dataframe thead th {\n",
              "        text-align: right;\n",
              "    }\n",
              "</style>\n",
              "<table border=\"1\" class=\"dataframe\">\n",
              "  <thead>\n",
              "    <tr style=\"text-align: right;\">\n",
              "      <th></th>\n",
              "      <th>MainBranch</th>\n",
              "      <th>Hobbyist</th>\n",
              "    </tr>\n",
              "  </thead>\n",
              "  <tbody>\n",
              "    <tr>\n",
              "      <th>0</th>\n",
              "      <td>I am a student who is learning to code</td>\n",
              "      <td>Yes</td>\n",
              "    </tr>\n",
              "    <tr>\n",
              "      <th>1</th>\n",
              "      <td>I am a student who is learning to code</td>\n",
              "      <td>No</td>\n",
              "    </tr>\n",
              "  </tbody>\n",
              "</table>\n",
              "</div>"
            ],
            "text/plain": [
              "                               MainBranch Hobbyist\n",
              "0  I am a student who is learning to code      Yes\n",
              "1  I am a student who is learning to code       No"
            ]
          },
          "metadata": {
            "tags": []
          },
          "execution_count": 34
        }
      ]
    },
    {
      "cell_type": "code",
      "metadata": {
        "id": "CeiOOAzJFmWD",
        "colab_type": "code",
        "colab": {}
      },
      "source": [
        "###########################################################################################\n",
        "#rows to update"
      ],
      "execution_count": null,
      "outputs": []
    },
    {
      "cell_type": "code",
      "metadata": {
        "id": "brNnv3H7FmWF",
        "colab_type": "code",
        "colab": {},
        "outputId": "923a5aab-be16-4fe1-8c0c-97ebca7c4b66"
      },
      "source": [
        "#change all inputs of a row\n",
        "data3.loc[1] = ['Afgh', 1957, 1000, 2]\n",
        "#change specific column\n",
        "data3.loc[1, 'country'] = ['Afsha'] # or ...\n",
        "data3.at[1,'country'] = 'Afghan'\n",
        "\n",
        "data3.loc[1]"
      ],
      "execution_count": null,
      "outputs": [
        {
          "output_type": "execute_result",
          "data": {
            "text/plain": [
              "country       Afghan\n",
              "year            1957\n",
              "xxxulation      1000\n",
              "newcolumn          2\n",
              "Name: 1, dtype: object"
            ]
          },
          "metadata": {
            "tags": []
          },
          "execution_count": 47
        }
      ]
    },
    {
      "cell_type": "code",
      "metadata": {
        "id": "FowdQxLMFmWI",
        "colab_type": "code",
        "colab": {},
        "outputId": "60f88ddc-0142-463f-a5d3-1d2dad85724f"
      },
      "source": [
        "#changing values using filters\n",
        "filt = people ['first'] == 'Bita'\n",
        "people.loc[filt, 'last'] = 'Afsharha2'\n",
        "people.head(3)"
      ],
      "execution_count": null,
      "outputs": [
        {
          "output_type": "execute_result",
          "data": {
            "text/html": [
              "<div>\n",
              "<style scoped>\n",
              "    .dataframe tbody tr th:only-of-type {\n",
              "        vertical-align: middle;\n",
              "    }\n",
              "\n",
              "    .dataframe tbody tr th {\n",
              "        vertical-align: top;\n",
              "    }\n",
              "\n",
              "    .dataframe thead th {\n",
              "        text-align: right;\n",
              "    }\n",
              "</style>\n",
              "<table border=\"1\" class=\"dataframe\">\n",
              "  <thead>\n",
              "    <tr style=\"text-align: right;\">\n",
              "      <th></th>\n",
              "      <th>first</th>\n",
              "      <th>last</th>\n",
              "      <th>email</th>\n",
              "    </tr>\n",
              "  </thead>\n",
              "  <tbody>\n",
              "    <tr>\n",
              "      <th>0</th>\n",
              "      <td>Mehdi</td>\n",
              "      <td>Afsharha</td>\n",
              "      <td>mehdi@gmial.com</td>\n",
              "    </tr>\n",
              "    <tr>\n",
              "      <th>1</th>\n",
              "      <td>Somi</td>\n",
              "      <td>Ghelichkhani</td>\n",
              "      <td>somi@gmail.com</td>\n",
              "    </tr>\n",
              "    <tr>\n",
              "      <th>2</th>\n",
              "      <td>Bita</td>\n",
              "      <td>Afsharha2</td>\n",
              "      <td>bita@gmail.com</td>\n",
              "    </tr>\n",
              "  </tbody>\n",
              "</table>\n",
              "</div>"
            ],
            "text/plain": [
              "   first          last            email\n",
              "0  Mehdi      Afsharha  mehdi@gmial.com\n",
              "1   Somi  Ghelichkhani   somi@gmail.com\n",
              "2   Bita     Afsharha2   bita@gmail.com"
            ]
          },
          "metadata": {
            "tags": []
          },
          "execution_count": 58
        }
      ]
    },
    {
      "cell_type": "code",
      "metadata": {
        "id": "TaZ6FrrIFmWM",
        "colab_type": "code",
        "colab": {},
        "outputId": "70925b9b-35b4-4ba9-fbbd-32d3d2a9c21c"
      },
      "source": [
        "#modifying row values by funcitons 1\n",
        "#simple making upper case\n",
        "people['email'] = people['email'].str.upper ()\n",
        "people.head(3)"
      ],
      "execution_count": null,
      "outputs": [
        {
          "output_type": "execute_result",
          "data": {
            "text/html": [
              "<div>\n",
              "<style scoped>\n",
              "    .dataframe tbody tr th:only-of-type {\n",
              "        vertical-align: middle;\n",
              "    }\n",
              "\n",
              "    .dataframe tbody tr th {\n",
              "        vertical-align: top;\n",
              "    }\n",
              "\n",
              "    .dataframe thead th {\n",
              "        text-align: right;\n",
              "    }\n",
              "</style>\n",
              "<table border=\"1\" class=\"dataframe\">\n",
              "  <thead>\n",
              "    <tr style=\"text-align: right;\">\n",
              "      <th></th>\n",
              "      <th>first</th>\n",
              "      <th>last</th>\n",
              "      <th>email</th>\n",
              "    </tr>\n",
              "  </thead>\n",
              "  <tbody>\n",
              "    <tr>\n",
              "      <th>0</th>\n",
              "      <td>Mehdi</td>\n",
              "      <td>Afsharha</td>\n",
              "      <td>MEHDI@GMIAL.COM</td>\n",
              "    </tr>\n",
              "    <tr>\n",
              "      <th>1</th>\n",
              "      <td>Somi</td>\n",
              "      <td>Ghelichkhani</td>\n",
              "      <td>SOMI@GMAIL.COM</td>\n",
              "    </tr>\n",
              "    <tr>\n",
              "      <th>2</th>\n",
              "      <td>Bita</td>\n",
              "      <td>Afsharha2</td>\n",
              "      <td>BITA@GMAIL.COM</td>\n",
              "    </tr>\n",
              "  </tbody>\n",
              "</table>\n",
              "</div>"
            ],
            "text/plain": [
              "   first          last            email\n",
              "0  Mehdi      Afsharha  MEHDI@GMIAL.COM\n",
              "1   Somi  Ghelichkhani   SOMI@GMAIL.COM\n",
              "2   Bita     Afsharha2   BITA@GMAIL.COM"
            ]
          },
          "metadata": {
            "tags": []
          },
          "execution_count": 60
        }
      ]
    },
    {
      "cell_type": "code",
      "metadata": {
        "id": "bH7pFnXzFmWO",
        "colab_type": "code",
        "colab": {},
        "outputId": "7d2b5d1e-0808-46d6-9b34-d57bafd84f24"
      },
      "source": [
        "#modifying row values by functions 2. apply\n",
        "#advanced apply function. apply is usef for a column or series.\n",
        "\n",
        "#using a built-in function by apply\n",
        "print(\n",
        "    people['email'].apply(len)\n",
        " )\n",
        "\n",
        "#using a new function by apply\n",
        "def update_email(email):\n",
        "    return 'personal' + email\n",
        "\n",
        "people['email']= people['email'].apply(update_email)\n",
        "print (people)\n",
        "\n",
        "#using lambda\n",
        "people['email'] = people['email']. apply(lambda x: x.lower())\n",
        "print(people.head(3))\n",
        "\n",
        "#using lambda on a dataframe\n",
        "print(\n",
        "    people.apply(lambda x: x.min())\n",
        ") "
      ],
      "execution_count": null,
      "outputs": [
        {
          "output_type": "stream",
          "text": [
            "0    71\n",
            "1    70\n",
            "2    70\n",
            "Name: email, dtype: int64\n",
            "   first          last                                              email\n",
            "0  Mehdi      Afsharha  personalpersonalpersonalpersonalpersonalperson...\n",
            "1   Somi  Ghelichkhani  personalpersonalpersonalpersonalpersonalperson...\n",
            "2   Bita     Afsharha2  personalpersonalpersonalpersonalpersonalperson...\n",
            "   first          last                                              email\n",
            "0  Mehdi      Afsharha  personalpersonalpersonalpersonalpersonalperson...\n",
            "1   Somi  Ghelichkhani  personalpersonalpersonalpersonalpersonalperson...\n",
            "2   Bita     Afsharha2  personalpersonalpersonalpersonalpersonalperson...\n",
            "first                                                 Bita\n",
            "last                                              Afsharha\n",
            "email    personalpersonalpersonalpersonalpersonalperson...\n",
            "dtype: object\n"
          ],
          "name": "stdout"
        }
      ]
    },
    {
      "cell_type": "code",
      "metadata": {
        "id": "Gs57JCLdFmWR",
        "colab_type": "code",
        "colab": {},
        "outputId": "67f0c7a4-1ba3-4177-d170-51bc458b7dd3"
      },
      "source": [
        "#modifying row values by functions 3. applymap\n",
        "#in the following two examples you see apply des not work on dataframe properly\n",
        "#it works for column or series in dataframe (when using lambda)\n",
        "print(\n",
        "    people.apply(len)\n",
        ")\n",
        "\n",
        "print(people.apply(len, axis = 'columns')\n",
        "     )\n",
        "\n",
        "# for an entire dataframe we usually use applymap. it applys a function to all elements of a df\n",
        "people.applymap(len)"
      ],
      "execution_count": null,
      "outputs": [
        {
          "output_type": "stream",
          "text": [
            "first    3\n",
            "last     3\n",
            "email    3\n",
            "dtype: int64\n",
            "0    3\n",
            "1    3\n",
            "2    3\n",
            "dtype: int64\n"
          ],
          "name": "stdout"
        },
        {
          "output_type": "execute_result",
          "data": {
            "text/html": [
              "<div>\n",
              "<style scoped>\n",
              "    .dataframe tbody tr th:only-of-type {\n",
              "        vertical-align: middle;\n",
              "    }\n",
              "\n",
              "    .dataframe tbody tr th {\n",
              "        vertical-align: top;\n",
              "    }\n",
              "\n",
              "    .dataframe thead th {\n",
              "        text-align: right;\n",
              "    }\n",
              "</style>\n",
              "<table border=\"1\" class=\"dataframe\">\n",
              "  <thead>\n",
              "    <tr style=\"text-align: right;\">\n",
              "      <th></th>\n",
              "      <th>first</th>\n",
              "      <th>last</th>\n",
              "      <th>email</th>\n",
              "    </tr>\n",
              "  </thead>\n",
              "  <tbody>\n",
              "    <tr>\n",
              "      <th>0</th>\n",
              "      <td>5</td>\n",
              "      <td>8</td>\n",
              "      <td>79</td>\n",
              "    </tr>\n",
              "    <tr>\n",
              "      <th>1</th>\n",
              "      <td>4</td>\n",
              "      <td>12</td>\n",
              "      <td>78</td>\n",
              "    </tr>\n",
              "    <tr>\n",
              "      <th>2</th>\n",
              "      <td>4</td>\n",
              "      <td>9</td>\n",
              "      <td>78</td>\n",
              "    </tr>\n",
              "  </tbody>\n",
              "</table>\n",
              "</div>"
            ],
            "text/plain": [
              "   first  last  email\n",
              "0      5     8     79\n",
              "1      4    12     78\n",
              "2      4     9     78"
            ]
          },
          "metadata": {
            "tags": []
          },
          "execution_count": 95
        }
      ]
    },
    {
      "cell_type": "code",
      "metadata": {
        "id": "oxDmYViWFmWU",
        "colab_type": "code",
        "colab": {},
        "outputId": "40ca2458-ee7e-43e7-92d8-9a6e6de65b2e"
      },
      "source": [
        "#to replace a  value with another value\n",
        "\n",
        "people['first'].replace({'Mehdi': 'Miti' , 'Bita': 'Bita Jooni'}, inplace = True)\n",
        "people.head(3)"
      ],
      "execution_count": null,
      "outputs": [
        {
          "output_type": "execute_result",
          "data": {
            "text/html": [
              "<div>\n",
              "<style scoped>\n",
              "    .dataframe tbody tr th:only-of-type {\n",
              "        vertical-align: middle;\n",
              "    }\n",
              "\n",
              "    .dataframe tbody tr th {\n",
              "        vertical-align: top;\n",
              "    }\n",
              "\n",
              "    .dataframe thead th {\n",
              "        text-align: right;\n",
              "    }\n",
              "</style>\n",
              "<table border=\"1\" class=\"dataframe\">\n",
              "  <thead>\n",
              "    <tr style=\"text-align: right;\">\n",
              "      <th></th>\n",
              "      <th>first</th>\n",
              "      <th>last</th>\n",
              "      <th>email</th>\n",
              "    </tr>\n",
              "  </thead>\n",
              "  <tbody>\n",
              "    <tr>\n",
              "      <th>0</th>\n",
              "      <td>Miti</td>\n",
              "      <td>Afsharha</td>\n",
              "      <td>personalpersonalpersonalpersonalpersonalperson...</td>\n",
              "    </tr>\n",
              "    <tr>\n",
              "      <th>1</th>\n",
              "      <td>Somi</td>\n",
              "      <td>Ghelichkhani</td>\n",
              "      <td>personalpersonalpersonalpersonalpersonalperson...</td>\n",
              "    </tr>\n",
              "    <tr>\n",
              "      <th>2</th>\n",
              "      <td>Bita Jooni</td>\n",
              "      <td>Afsharha2</td>\n",
              "      <td>personalpersonalpersonalpersonalpersonalperson...</td>\n",
              "    </tr>\n",
              "  </tbody>\n",
              "</table>\n",
              "</div>"
            ],
            "text/plain": [
              "        first          last                                              email\n",
              "0        Miti      Afsharha  personalpersonalpersonalpersonalpersonalperson...\n",
              "1        Somi  Ghelichkhani  personalpersonalpersonalpersonalpersonalperson...\n",
              "2  Bita Jooni     Afsharha2  personalpersonalpersonalpersonalpersonalperson..."
            ]
          },
          "metadata": {
            "tags": []
          },
          "execution_count": 112
        }
      ]
    },
    {
      "cell_type": "code",
      "metadata": {
        "id": "tW2uzZnKFmWX",
        "colab_type": "code",
        "colab": {},
        "outputId": "4b9d83d2-3108-4c06-c692-f5231d4be5fb"
      },
      "source": [
        "#map. map is like replace. but instead it put nan instead of not defined values\n",
        "print(survey['Hobbyist'].head(3))\n",
        "survey['Hobbyist'] = survey['Hobbyist'].map({'Yes' : True, 'No': False}).head(3)"
      ],
      "execution_count": null,
      "outputs": [
        {
          "output_type": "stream",
          "text": [
            "0    Yes\n",
            "1     No\n",
            "2    Yes\n",
            "Name: Hobbyist, dtype: object\n"
          ],
          "name": "stdout"
        },
        {
          "output_type": "execute_result",
          "data": {
            "text/plain": [
              "0     True\n",
              "1    False\n",
              "2     True\n",
              "Name: Hobbyist, dtype: bool"
            ]
          },
          "metadata": {
            "tags": []
          },
          "execution_count": 122
        }
      ]
    },
    {
      "cell_type": "code",
      "metadata": {
        "id": "i6o1Y6fYFmWa",
        "colab_type": "code",
        "colab": {}
      },
      "source": [
        "###########################################################################################\n",
        "#columns to update"
      ],
      "execution_count": null,
      "outputs": []
    },
    {
      "cell_type": "code",
      "metadata": {
        "id": "h01hhJzvFmWc",
        "colab_type": "code",
        "colab": {},
        "outputId": "397f31a7-7528-403a-9679-a5c22918fcb0"
      },
      "source": [
        "#columns to add\n",
        "data3 ['newcolumn'] = 1\n",
        "data3.head(1)"
      ],
      "execution_count": null,
      "outputs": [
        {
          "output_type": "execute_result",
          "data": {
            "text/html": [
              "<div>\n",
              "<style scoped>\n",
              "    .dataframe tbody tr th:only-of-type {\n",
              "        vertical-align: middle;\n",
              "    }\n",
              "\n",
              "    .dataframe tbody tr th {\n",
              "        vertical-align: top;\n",
              "    }\n",
              "\n",
              "    .dataframe thead th {\n",
              "        text-align: right;\n",
              "    }\n",
              "</style>\n",
              "<table border=\"1\" class=\"dataframe\">\n",
              "  <thead>\n",
              "    <tr style=\"text-align: right;\">\n",
              "      <th></th>\n",
              "      <th>country</th>\n",
              "      <th>year</th>\n",
              "      <th>population</th>\n",
              "      <th>newcolumn</th>\n",
              "    </tr>\n",
              "  </thead>\n",
              "  <tbody>\n",
              "    <tr>\n",
              "      <th>0</th>\n",
              "      <td>Afghanistan</td>\n",
              "      <td>1952</td>\n",
              "      <td>8425333</td>\n",
              "      <td>1</td>\n",
              "    </tr>\n",
              "  </tbody>\n",
              "</table>\n",
              "</div>"
            ],
            "text/plain": [
              "       country  year  population  newcolumn\n",
              "0  Afghanistan  1952     8425333          1"
            ]
          },
          "metadata": {
            "tags": []
          },
          "execution_count": 20
        }
      ]
    },
    {
      "cell_type": "code",
      "metadata": {
        "id": "Lp3feV6AFmWf",
        "colab_type": "code",
        "colab": {}
      },
      "source": [
        "#columns to rename\n",
        "data3.rename(columns={'year':'y', 'country':'c'}, inplace = False).head()\n",
        "#you can use inplace function to replace the renamed value in dataframe"
      ],
      "execution_count": null,
      "outputs": []
    },
    {
      "cell_type": "code",
      "metadata": {
        "id": "zenaEuJTFmWi",
        "colab_type": "code",
        "colab": {},
        "outputId": "2846514b-4c23-4afa-9186-dd77e0b3cac2"
      },
      "source": [
        "##remove other columns or keep some certain columns\n",
        "data3[['year', 'population']].head(1)"
      ],
      "execution_count": null,
      "outputs": [
        {
          "output_type": "execute_result",
          "data": {
            "text/html": [
              "<div>\n",
              "<style scoped>\n",
              "    .dataframe tbody tr th:only-of-type {\n",
              "        vertical-align: middle;\n",
              "    }\n",
              "\n",
              "    .dataframe tbody tr th {\n",
              "        vertical-align: top;\n",
              "    }\n",
              "\n",
              "    .dataframe thead th {\n",
              "        text-align: right;\n",
              "    }\n",
              "</style>\n",
              "<table border=\"1\" class=\"dataframe\">\n",
              "  <thead>\n",
              "    <tr style=\"text-align: right;\">\n",
              "      <th></th>\n",
              "      <th>year</th>\n",
              "      <th>population</th>\n",
              "    </tr>\n",
              "  </thead>\n",
              "  <tbody>\n",
              "    <tr>\n",
              "      <th>0</th>\n",
              "      <td>1952</td>\n",
              "      <td>8425333</td>\n",
              "    </tr>\n",
              "  </tbody>\n",
              "</table>\n",
              "</div>"
            ],
            "text/plain": [
              "   year  population\n",
              "0  1952     8425333"
            ]
          },
          "metadata": {
            "tags": []
          },
          "execution_count": 24
        }
      ]
    },
    {
      "cell_type": "code",
      "metadata": {
        "id": "bBv5LrD7FmWl",
        "colab_type": "code",
        "colab": {},
        "outputId": "688c0710-de79-4da0-c32d-072332051a5b"
      },
      "source": [
        "#columns to remove\n",
        "data3.drop ('newcolumn', axis = 'columns') # to remove one column\n",
        "data3.drop (['year', 'population'] , axis ='columns') # to remove multiple columns option 1\n",
        "data3.drop(columns = ['year', 'country']). head(1) # to remove multiple columns option 2"
      ],
      "execution_count": null,
      "outputs": [
        {
          "output_type": "execute_result",
          "data": {
            "text/html": [
              "<div>\n",
              "<style scoped>\n",
              "    .dataframe tbody tr th:only-of-type {\n",
              "        vertical-align: middle;\n",
              "    }\n",
              "\n",
              "    .dataframe tbody tr th {\n",
              "        vertical-align: top;\n",
              "    }\n",
              "\n",
              "    .dataframe thead th {\n",
              "        text-align: right;\n",
              "    }\n",
              "</style>\n",
              "<table border=\"1\" class=\"dataframe\">\n",
              "  <thead>\n",
              "    <tr style=\"text-align: right;\">\n",
              "      <th></th>\n",
              "      <th>population</th>\n",
              "      <th>newcolumn</th>\n",
              "    </tr>\n",
              "  </thead>\n",
              "  <tbody>\n",
              "    <tr>\n",
              "      <th>0</th>\n",
              "      <td>8425333</td>\n",
              "      <td>1</td>\n",
              "    </tr>\n",
              "  </tbody>\n",
              "</table>\n",
              "</div>"
            ],
            "text/plain": [
              "   population  newcolumn\n",
              "0     8425333          1"
            ]
          },
          "metadata": {
            "tags": []
          },
          "execution_count": 22
        }
      ]
    },
    {
      "cell_type": "code",
      "metadata": {
        "id": "kDwKw97nFmWo",
        "colab_type": "code",
        "colab": {}
      },
      "source": [
        "#columns upper or lower case\n",
        "data3.columns = [x.upper() for x in data3.columns]"
      ],
      "execution_count": null,
      "outputs": []
    },
    {
      "cell_type": "code",
      "metadata": {
        "id": "0hX9hHIxFmWq",
        "colab_type": "code",
        "colab": {},
        "outputId": "051323f6-4b57-4370-af5f-4ffd32a63cd2"
      },
      "source": [
        "#replace character in column names\n",
        "data3.columns = data3.columns.str.replace('pop', 'xxx')\n",
        "data3\n"
      ],
      "execution_count": null,
      "outputs": [
        {
          "output_type": "execute_result",
          "data": {
            "text/html": [
              "<div>\n",
              "<style scoped>\n",
              "    .dataframe tbody tr th:only-of-type {\n",
              "        vertical-align: middle;\n",
              "    }\n",
              "\n",
              "    .dataframe tbody tr th {\n",
              "        vertical-align: top;\n",
              "    }\n",
              "\n",
              "    .dataframe thead th {\n",
              "        text-align: right;\n",
              "    }\n",
              "</style>\n",
              "<table border=\"1\" class=\"dataframe\">\n",
              "  <thead>\n",
              "    <tr style=\"text-align: right;\">\n",
              "      <th></th>\n",
              "      <th>country</th>\n",
              "      <th>year</th>\n",
              "      <th>xxxulation</th>\n",
              "      <th>newcolumn</th>\n",
              "    </tr>\n",
              "  </thead>\n",
              "  <tbody>\n",
              "    <tr>\n",
              "      <th>0</th>\n",
              "      <td>Afghanistan</td>\n",
              "      <td>1952</td>\n",
              "      <td>8425333</td>\n",
              "      <td>1</td>\n",
              "    </tr>\n",
              "    <tr>\n",
              "      <th>1</th>\n",
              "      <td>Afghan</td>\n",
              "      <td>1957</td>\n",
              "      <td>1000</td>\n",
              "      <td>2</td>\n",
              "    </tr>\n",
              "    <tr>\n",
              "      <th>2</th>\n",
              "      <td>Afghanistan</td>\n",
              "      <td>1962</td>\n",
              "      <td>10267083</td>\n",
              "      <td>1</td>\n",
              "    </tr>\n",
              "    <tr>\n",
              "      <th>3</th>\n",
              "      <td>Afghanistan</td>\n",
              "      <td>1967</td>\n",
              "      <td>11537966</td>\n",
              "      <td>1</td>\n",
              "    </tr>\n",
              "    <tr>\n",
              "      <th>...</th>\n",
              "      <td>...</td>\n",
              "      <td>...</td>\n",
              "      <td>...</td>\n",
              "      <td>...</td>\n",
              "    </tr>\n",
              "    <tr>\n",
              "      <th>1700</th>\n",
              "      <td>Zimbabwe</td>\n",
              "      <td>1992</td>\n",
              "      <td>10704340</td>\n",
              "      <td>1</td>\n",
              "    </tr>\n",
              "    <tr>\n",
              "      <th>1701</th>\n",
              "      <td>Zimbabwe</td>\n",
              "      <td>1997</td>\n",
              "      <td>11404948</td>\n",
              "      <td>1</td>\n",
              "    </tr>\n",
              "    <tr>\n",
              "      <th>1702</th>\n",
              "      <td>Zimbabwe</td>\n",
              "      <td>2002</td>\n",
              "      <td>11926563</td>\n",
              "      <td>1</td>\n",
              "    </tr>\n",
              "    <tr>\n",
              "      <th>1703</th>\n",
              "      <td>Zimbabwe</td>\n",
              "      <td>2007</td>\n",
              "      <td>12311143</td>\n",
              "      <td>1</td>\n",
              "    </tr>\n",
              "  </tbody>\n",
              "</table>\n",
              "<p>1704 rows × 4 columns</p>\n",
              "</div>"
            ],
            "text/plain": [
              "          country  year  xxxulation  newcolumn\n",
              "0     Afghanistan  1952     8425333          1\n",
              "1          Afghan  1957        1000          2\n",
              "2     Afghanistan  1962    10267083          1\n",
              "3     Afghanistan  1967    11537966          1\n",
              "...           ...   ...         ...        ...\n",
              "1700     Zimbabwe  1992    10704340          1\n",
              "1701     Zimbabwe  1997    11404948          1\n",
              "1702     Zimbabwe  2002    11926563          1\n",
              "1703     Zimbabwe  2007    12311143          1\n",
              "\n",
              "[1704 rows x 4 columns]"
            ]
          },
          "metadata": {
            "tags": []
          },
          "execution_count": 100
        }
      ]
    },
    {
      "cell_type": "code",
      "metadata": {
        "id": "AKmujaZdFmWt",
        "colab_type": "code",
        "colab": {}
      },
      "source": [
        "##########################################################################################\n",
        "#filtering based on a value in a column"
      ],
      "execution_count": null,
      "outputs": []
    },
    {
      "cell_type": "code",
      "metadata": {
        "id": "KL9BATvjFmWw",
        "colab_type": "code",
        "colab": {}
      },
      "source": [
        "#way one (not the best)\n",
        "filterUs = (data3['country']=='United States')\n",
        "us = data3[filterUs]\n",
        "us.head(2)"
      ],
      "execution_count": null,
      "outputs": []
    },
    {
      "cell_type": "code",
      "metadata": {
        "id": "XpJUb5gDFmWz",
        "colab_type": "code",
        "colab": {}
      },
      "source": [
        "#way two. better solution\n",
        "filterCountry = ((data3['country']=='China') | (data3['country']=='Afghanistan') ) & (data3['year']. isin([1952, 1957])) \n",
        "\n",
        "twoCountries = data3.loc [filterCountry , ['country','year']]\n",
        "twoCountries.head()"
      ],
      "execution_count": null,
      "outputs": []
    },
    {
      "cell_type": "code",
      "metadata": {
        "id": "c0uPM3RWFmW1",
        "colab_type": "code",
        "colab": {}
      },
      "source": [
        "#filter contains a text\n",
        "filtCountry = data3['country'].str.contains ('Af', na=False)\n",
        "test = data3.loc [ filtCountry]\n",
        "test.head()"
      ],
      "execution_count": null,
      "outputs": []
    },
    {
      "cell_type": "code",
      "metadata": {
        "id": "7wv5Pu_xFmW4",
        "colab_type": "code",
        "colab": {}
      },
      "source": [
        "#excluding from filter\n",
        "\n",
        "oppositeFilter = data3.loc [~filtCountry , ['country','year']]\n",
        "oppositeFilter.head()"
      ],
      "execution_count": null,
      "outputs": []
    },
    {
      "cell_type": "code",
      "metadata": {
        "id": "nudkErzUFmW7",
        "colab_type": "code",
        "colab": {}
      },
      "source": [
        "###########################################################################################\n",
        "#index"
      ],
      "execution_count": null,
      "outputs": []
    },
    {
      "cell_type": "code",
      "metadata": {
        "id": "3m8SIbGhFmW9",
        "colab_type": "code",
        "colab": {}
      },
      "source": [
        "people.index"
      ],
      "execution_count": null,
      "outputs": []
    },
    {
      "cell_type": "code",
      "metadata": {
        "id": "PZz5rg_nFmW_",
        "colab_type": "code",
        "colab": {}
      },
      "source": [
        "people"
      ],
      "execution_count": null,
      "outputs": []
    },
    {
      "cell_type": "code",
      "metadata": {
        "id": "onBV8z5qFmXB",
        "colab_type": "code",
        "colab": {}
      },
      "source": [
        "people.reset_index(drop = True). head(2)"
      ],
      "execution_count": null,
      "outputs": []
    },
    {
      "cell_type": "code",
      "metadata": {
        "id": "YRLslXSwFmXD",
        "colab_type": "code",
        "colab": {}
      },
      "source": [
        "#set index\n",
        "people['fullName'] = people['first']+ ' ' + people['last']\n",
        "people.set_index ('fullName').head()"
      ],
      "execution_count": null,
      "outputs": []
    },
    {
      "cell_type": "code",
      "metadata": {
        "id": "o3ZDqY-9FmXG",
        "colab_type": "code",
        "colab": {}
      },
      "source": [
        "###########################################################################################\n",
        "#Group by"
      ],
      "execution_count": null,
      "outputs": []
    },
    {
      "cell_type": "code",
      "metadata": {
        "id": "FMCnAl0tFmXI",
        "colab_type": "code",
        "colab": {}
      },
      "source": [
        "cc= data3.groupby (['country']).min() #min of everything\n",
        "cc = data3.groupby (['country'], as_index = True) ['population'].max()\n",
        "cc = pandas.DataFrame(cc)\n",
        "cc.head()\n"
      ],
      "execution_count": null,
      "outputs": []
    },
    {
      "cell_type": "code",
      "metadata": {
        "id": "ggMYL9qbFmXL",
        "colab_type": "code",
        "colab": {}
      },
      "source": [
        "bb=survey.groupby (['Hobbyist']) ['Hobbyist'].count()\n",
        "bb"
      ],
      "execution_count": null,
      "outputs": []
    },
    {
      "cell_type": "code",
      "metadata": {
        "id": "a-vZnlh1FmXN",
        "colab_type": "code",
        "colab": {}
      },
      "source": [
        "###########################################################################################\n",
        "#Sort"
      ],
      "execution_count": null,
      "outputs": []
    },
    {
      "cell_type": "code",
      "metadata": {
        "id": "Di49TaJrFmXP",
        "colab_type": "code",
        "colab": {}
      },
      "source": [
        "# Sort column\n",
        "cc = cc.sort_values(['population'], ascending = False)\n",
        "cc.head(3)"
      ],
      "execution_count": null,
      "outputs": []
    },
    {
      "cell_type": "code",
      "metadata": {
        "id": "hKakOyAFFmXR",
        "colab_type": "code",
        "colab": {}
      },
      "source": [
        "#sort index\n",
        "people.sort_index(inplace = True)\n",
        "people"
      ],
      "execution_count": null,
      "outputs": []
    },
    {
      "cell_type": "code",
      "metadata": {
        "id": "WTPEdHgiFmXT",
        "colab_type": "code",
        "colab": {}
      },
      "source": [
        "###########################################################################################\n",
        "#simple dataframe operations"
      ],
      "execution_count": null,
      "outputs": []
    },
    {
      "cell_type": "code",
      "metadata": {
        "id": "vkJarjQxFmXW",
        "colab_type": "code",
        "colab": {}
      },
      "source": [
        "#math operations with a column\n",
        "data3['population']+1\n",
        "data3['population'].head(3)*2"
      ],
      "execution_count": null,
      "outputs": []
    },
    {
      "cell_type": "code",
      "metadata": {
        "id": "dCnDVdXvFmXX",
        "colab_type": "code",
        "colab": {}
      },
      "source": [
        "#drop a row with missing value in population. first row of data3 has missing value\n",
        "data3.dropna(subset = ['population'], axis=0).head(3)\n",
        "#if you put ,inpace=True inside the code, it will remove the row in original dataframe  "
      ],
      "execution_count": null,
      "outputs": []
    },
    {
      "cell_type": "code",
      "metadata": {
        "id": "ya1OvBT8FmXb",
        "colab_type": "code",
        "colab": {}
      },
      "source": [
        "###########################################################################################\n",
        "#to replace a missing value with some other value"
      ],
      "execution_count": null,
      "outputs": []
    },
    {
      "cell_type": "code",
      "metadata": {
        "scrolled": true,
        "id": "O--M98WlFmXd",
        "colab_type": "code",
        "colab": {}
      },
      "source": [
        "#Method 1. \n",
        "data3['population'].fillna(0).head(3)"
      ],
      "execution_count": null,
      "outputs": []
    },
    {
      "cell_type": "code",
      "metadata": {
        "scrolled": true,
        "id": "Pj8MVw0dFmXf",
        "colab_type": "code",
        "colab": {}
      },
      "source": [
        "#method 2. you need to import numpy liberary first\n",
        "data3['population'].replace(numpy.nan, 1).head(3)\n",
        "#if you put ,inpace=Tru e inside the code, it will remove the row in original dataframe  "
      ],
      "execution_count": null,
      "outputs": []
    },
    {
      "cell_type": "code",
      "metadata": {
        "id": "ECAZqEi0FmXh",
        "colab_type": "code",
        "colab": {}
      },
      "source": [
        "survey.index"
      ],
      "execution_count": null,
      "outputs": []
    },
    {
      "cell_type": "code",
      "metadata": {
        "id": "Pv1hNFe-FmXj",
        "colab_type": "code",
        "colab": {}
      },
      "source": [
        "surveySchema"
      ],
      "execution_count": null,
      "outputs": []
    },
    {
      "cell_type": "code",
      "metadata": {
        "id": "mR3kdcLoFmXl",
        "colab_type": "code",
        "colab": {}
      },
      "source": [
        ""
      ],
      "execution_count": null,
      "outputs": []
    }
  ]
}