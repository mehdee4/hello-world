{
  "nbformat": 4,
  "nbformat_minor": 0,
  "metadata": {
    "kernelspec": {
      "display_name": "Python 3",
      "language": "python",
      "name": "python3"
    },
    "language_info": {
      "codemirror_mode": {
        "name": "ipython",
        "version": 3
      },
      "file_extension": ".py",
      "mimetype": "text/x-python",
      "name": "python",
      "nbconvert_exporter": "python",
      "pygments_lexer": "ipython3",
      "version": "3.7.6"
    },
    "colab": {
      "name": "Python fundamentals.ipynb",
      "provenance": [],
      "include_colab_link": true
    }
  },
  "cells": [
    {
      "cell_type": "markdown",
      "metadata": {
        "id": "view-in-github",
        "colab_type": "text"
      },
      "source": [
        "<a href=\"https://colab.research.google.com/github/mehdee4/hello-world/blob/master/Python_fundamentals.ipynb\" target=\"_parent\"><img src=\"https://colab.research.google.com/assets/colab-badge.svg\" alt=\"Open In Colab\"/></a>"
      ]
    },
    {
      "cell_type": "code",
      "metadata": {
        "id": "Wx5qLSRKFB2V",
        "colab_type": "code",
        "colab": {
          "base_uri": "https://localhost:8080/",
          "height": 34
        },
        "outputId": "55538646-a667-45b9-a973-fca7280d022b"
      },
      "source": [
        "e = 20\n",
        "f = 8\n",
        "if e > f:\n",
        "    print('e is greater than f')\n",
        "elif e == f:\n",
        "    print ('e is equal to f')\n",
        "elif e > f+10:\n",
        "    print ('e is 10 untis greater than f')\n",
        "else:\n",
        "    print('none is true')"
      ],
      "execution_count": 1,
      "outputs": [
        {
          "output_type": "stream",
          "text": [
            "e is greater than f\n"
          ],
          "name": "stdout"
        }
      ]
    },
    {
      "cell_type": "code",
      "metadata": {
        "id": "feLhmKryFB2n",
        "colab_type": "code",
        "colab": {}
      },
      "source": [
        "#functions\n",
        "#collection of instructions\n",
        "#collection of codes"
      ],
      "execution_count": null,
      "outputs": []
    },
    {
      "cell_type": "code",
      "metadata": {
        "id": "6p_Eh4H5FB20",
        "colab_type": "code",
        "colab": {},
        "outputId": "d34bf54a-0e82-4a70-d335-97f77ce00b08"
      },
      "source": [
        "def function1 ():\n",
        "    print ('ah')\n",
        "    print ('still in this function')\n",
        "print ('this is outside of function')"
      ],
      "execution_count": null,
      "outputs": [
        {
          "output_type": "stream",
          "text": [
            "this is outside of function\n"
          ],
          "name": "stdout"
        }
      ]
    },
    {
      "cell_type": "code",
      "metadata": {
        "id": "oHRzAQjwFB3C",
        "colab_type": "code",
        "colab": {},
        "outputId": "81d5401f-7499-4634-b31a-7a562e4c0b89"
      },
      "source": [
        "function1 ()"
      ],
      "execution_count": null,
      "outputs": [
        {
          "output_type": "stream",
          "text": [
            "ah\n",
            "still in this function\n"
          ],
          "name": "stdout"
        }
      ]
    },
    {
      "cell_type": "code",
      "metadata": {
        "id": "rR_HbVF0FB3L",
        "colab_type": "code",
        "colab": {},
        "outputId": "22607e51-d4cd-4f79-f951-b20fc310c2ad"
      },
      "source": [
        "def function2 (x, y , z):\n",
        "    print ('this is inside the function')\n",
        "    return (2*x) + (y*z)\n",
        "\n",
        "f = function2 (1,2,3)"
      ],
      "execution_count": null,
      "outputs": [
        {
          "output_type": "stream",
          "text": [
            "this is inside the function\n"
          ],
          "name": "stdout"
        }
      ]
    },
    {
      "cell_type": "code",
      "metadata": {
        "id": "4wUg_Kd3FB3Y",
        "colab_type": "code",
        "colab": {},
        "outputId": "e38ba347-aa91-485b-ab55-aed846b2567f"
      },
      "source": [
        "print (f)"
      ],
      "execution_count": null,
      "outputs": [
        {
          "output_type": "stream",
          "text": [
            "8\n"
          ],
          "name": "stdout"
        }
      ]
    },
    {
      "cell_type": "code",
      "metadata": {
        "id": "dsscGa-1FB3e",
        "colab_type": "code",
        "colab": {}
      },
      "source": [
        "# BMI calculator\n",
        "def bmical(name, weight, height):\n",
        "        bmi =  weight / height**2\n",
        "        print ('bmi: ')\n",
        "        print (bmi)\n",
        "        if bmi <25:\n",
        "            return name + ' is not overweighted' \n",
        "        elif bmi > 25:\n",
        "            return name  + ' is overweighted'\n"
      ],
      "execution_count": null,
      "outputs": []
    },
    {
      "cell_type": "code",
      "metadata": {
        "id": "n8lb7dw0FB3j",
        "colab_type": "code",
        "colab": {},
        "outputId": "7abc914c-b8c8-4590-a4b4-77a7c56796b3"
      },
      "source": [
        "mehdi = bmical ('Mehdi', 83, 1.84)\n",
        "somi = bmical ('Somi', 60, 1.63)"
      ],
      "execution_count": null,
      "outputs": [
        {
          "output_type": "stream",
          "text": [
            "bmi: \n",
            "24.515595463137995\n",
            "bmi: \n",
            "22.582709172343712\n"
          ],
          "name": "stdout"
        }
      ]
    },
    {
      "cell_type": "code",
      "metadata": {
        "id": "xfgXm6WOFB3o",
        "colab_type": "code",
        "colab": {},
        "outputId": "b79f7654-a2a3-4d04-e486-28639df4bb74"
      },
      "source": [
        "print (mehdi)\n",
        "print (somi)"
      ],
      "execution_count": null,
      "outputs": [
        {
          "output_type": "stream",
          "text": [
            "Mehdi is not overweighted\n",
            "Somi is not overweighted\n"
          ],
          "name": "stdout"
        }
      ]
    },
    {
      "cell_type": "code",
      "metadata": {
        "id": "D2F_RkDTFB3t",
        "colab_type": "code",
        "colab": {},
        "outputId": "f3ab156a-4afe-472c-e10c-f2123447f8a0"
      },
      "source": [
        "#convert mile to km\n",
        "def miletokm(x):\n",
        "    km= x * 1.6\n",
        "    return str(x) +' mile is ' + str(km) + ' km'\n",
        "km1 = miletokm (2)\n",
        "print (km1)"
      ],
      "execution_count": null,
      "outputs": [
        {
          "output_type": "stream",
          "text": [
            "2 mile is 3.2 km\n"
          ],
          "name": "stdout"
        }
      ]
    },
    {
      "cell_type": "code",
      "metadata": {
        "id": "82NwDm-iFB3y",
        "colab_type": "code",
        "colab": {}
      },
      "source": [
        "#Lists"
      ],
      "execution_count": null,
      "outputs": []
    },
    {
      "cell_type": "code",
      "metadata": {
        "id": "N6QJtjxnFB31",
        "colab_type": "code",
        "colab": {},
        "outputId": "8b5eca14-7379-4963-c137-e49cc60f7a6e"
      },
      "source": [
        "list1 = [1,2,3,4,5]\n",
        "print (list1)\n",
        "print(list1[1:3])\n",
        "print(list1[1:])\n",
        "type (list1)"
      ],
      "execution_count": null,
      "outputs": [
        {
          "output_type": "stream",
          "text": [
            "[1, 2, 3, 4, 5]\n",
            "[2, 3]\n",
            "[2, 3, 4, 5]\n"
          ],
          "name": "stdout"
        },
        {
          "output_type": "execute_result",
          "data": {
            "text/plain": [
              "list"
            ]
          },
          "metadata": {
            "tags": []
          },
          "execution_count": 52
        }
      ]
    },
    {
      "cell_type": "code",
      "metadata": {
        "id": "PdoE6URnFB36",
        "colab_type": "code",
        "colab": {},
        "outputId": "0657dc89-fa96-4510-9d67-2dfd133e2476"
      },
      "source": [
        "#to add one item to a list\n",
        "list1.append(3)\n",
        "list1.append([4,5])\n",
        "list1.append('string')\n",
        "print(list1)\n",
        "\n",
        "b = []\n",
        "b.append('listB1')\n",
        "b.append('listB2')\n",
        "b.extend (range(3,6))\n",
        "print (b)"
      ],
      "execution_count": null,
      "outputs": [
        {
          "output_type": "stream",
          "text": [
            "[1, 'inserted', 2, 3, 4, 5, 3, [4, 5], 'string', 3, [4, 5], 'string', 3, [4, 5], 'string']\n",
            "['listB1', 'listB2', 3, 4, 5]\n"
          ],
          "name": "stdout"
        }
      ]
    },
    {
      "cell_type": "code",
      "metadata": {
        "id": "f8oKYehsFB3-",
        "colab_type": "code",
        "colab": {}
      },
      "source": [
        "#to add one item into a specifit location in the list"
      ],
      "execution_count": null,
      "outputs": []
    },
    {
      "cell_type": "code",
      "metadata": {
        "id": "Zkq4xIdKFB4B",
        "colab_type": "code",
        "colab": {},
        "outputId": "234a0fe0-9155-4251-93cf-d9f2023f1ded"
      },
      "source": [
        "list1.insert(1, 'inserted')\n",
        "print(list1)"
      ],
      "execution_count": null,
      "outputs": [
        {
          "output_type": "stream",
          "text": [
            "[1, 'inserted', 2, 3, 4, 5, 3, [4, 5], 'string']\n"
          ],
          "name": "stdout"
        }
      ]
    },
    {
      "cell_type": "code",
      "metadata": {
        "id": "wzeTT9S8FB4F",
        "colab_type": "code",
        "colab": {},
        "outputId": "dee48e3c-0ad5-4d40-ffdf-61b859443cf8"
      },
      "source": [
        "#to extend (append) a list with multiple or range of items  in lists\n",
        "list1.extend  ([6,7])\n",
        "list1.extend (range ( 8, 12))\n",
        "#to extend list with another list\n",
        "list1.extend(b)\n",
        "print (list1)\n"
      ],
      "execution_count": null,
      "outputs": [
        {
          "output_type": "stream",
          "text": [
            "[6, 6, 6, 7, 8, 9, 10, 11, 'listB1', 'listB2', 6, 7, 8, 9, 10, 11, 'listB1', 'listB2', 3, 6, 7, 8, 9, 10, 11, 'listB1', 'listB2', 3, 4, 5]\n"
          ],
          "name": "stdout"
        }
      ]
    },
    {
      "cell_type": "code",
      "metadata": {
        "id": "97dof9fwFB4L",
        "colab_type": "code",
        "colab": {},
        "outputId": "8a0790ce-c148-4381-900a-6b94659c7ded"
      },
      "source": [
        "#to remove an item in list\n",
        "list1.pop() # to remove last item\n",
        "list1.pop(0) # ro remoe first item\n",
        "list1.pop (-1) # to remove  last item\n",
        "print (list1)\n",
        "\n",
        "#to remove a specific value\n",
        "list1.remove ('listB2')\n",
        "\n",
        "print (list1)"
      ],
      "execution_count": null,
      "outputs": [
        {
          "output_type": "stream",
          "text": [
            "[6, 6, 7, 8, 9, 10, 11, 'listB1', 'listB2', 6, 7, 8, 9, 10, 11, 'listB1', 'listB2', 3, 6, 7, 8, 9, 10, 11, 'listB1', 'listB2', 3]\n",
            "[6, 6, 7, 8, 9, 10, 11, 'listB1', 6, 7, 8, 9, 10, 11, 'listB1', 'listB2', 3, 6, 7, 8, 9, 10, 11, 'listB1', 'listB2', 3]\n"
          ],
          "name": "stdout"
        }
      ]
    },
    {
      "cell_type": "code",
      "metadata": {
        "id": "hV2-LLgDFB4R",
        "colab_type": "code",
        "colab": {},
        "outputId": "43c70fc4-64fd-411d-9e59-1094201f1700"
      },
      "source": [
        "#list comprehension\n",
        "#to create one list based on another. list 2 ways\n",
        "print(b)\n",
        "c= []\n",
        "for x in b:\n",
        "    c.append(x*2)\n",
        "print (c)\n",
        "\n",
        "#or list comprehension\n",
        "d = [x*2 for x in b]\n",
        "print(d)"
      ],
      "execution_count": null,
      "outputs": [
        {
          "output_type": "stream",
          "text": [
            "['listB1', 'listB2', 3, 4, 5]\n",
            "['listB1listB1', 'listB2listB2', 6, 8, 10]\n",
            "['listB1listB1', 'listB2listB2', 6, 8, 10]\n"
          ],
          "name": "stdout"
        }
      ]
    },
    {
      "cell_type": "code",
      "metadata": {
        "id": "aTigid8vFB4V",
        "colab_type": "code",
        "colab": {},
        "outputId": "1449fdb8-bd5d-4e87-af73-68b931b9198c"
      },
      "source": [
        "#another example of list comprehension\n",
        "#create this series\n",
        "#[36,25,16,9,4,1]\n",
        "\n",
        "#1\n",
        "e=[]\n",
        "for element in range (6, 0, -1):\n",
        "    e.append (element ** 2)\n",
        "\n",
        "#2\n",
        "e = [element ** 2 for element in range (6, 0, -1)]\n",
        "print(e)"
      ],
      "execution_count": null,
      "outputs": [
        {
          "output_type": "stream",
          "text": [
            "[36, 25, 16, 9, 4, 1]\n"
          ],
          "name": "stdout"
        }
      ]
    },
    {
      "cell_type": "code",
      "metadata": {
        "id": "hwhb2eYRFB4Y",
        "colab_type": "code",
        "colab": {},
        "outputId": "7e7bd279-0528-4fe8-cf12-fbe1b30c3e55"
      },
      "source": [
        "# to return /retrive or replace an item in list\n",
        "print (list1[0]) # to retrive an item\n",
        "list1[0] = 'first item' # to replace and item\n",
        "list1 [-1] = 'last item'\n",
        "print (list1)"
      ],
      "execution_count": null,
      "outputs": [
        {
          "output_type": "stream",
          "text": [
            "2\n",
            "['first item', 3, [4, 5], 'string', 6, 7, 8, 'last item']\n"
          ],
          "name": "stdout"
        }
      ]
    },
    {
      "cell_type": "code",
      "metadata": {
        "id": "SUMwTtdBFB4c",
        "colab_type": "code",
        "colab": {},
        "outputId": "65c3c1a1-51d2-45f1-ae72-ad6b7fff669a"
      },
      "source": [
        "#to change position of two items\n",
        "#approach one (shortcut)\n",
        "list1[0], list1[-1] = list1[-1], list1[0]\n",
        "print (list1)\n",
        "\n",
        "#approach two\n",
        "temp = list1[0]\n",
        "list1[0] = list1[-1]\n",
        "list1[-1] = temp\n",
        "print (list1)"
      ],
      "execution_count": null,
      "outputs": [
        {
          "output_type": "stream",
          "text": [
            "['last item', 3, [4, 5], 'string', 6, 7, 8, 'first item']\n",
            "['first item', 3, [4, 5], 'string', 6, 7, 8, 'last item']\n"
          ],
          "name": "stdout"
        }
      ]
    },
    {
      "cell_type": "code",
      "metadata": {
        "id": "b7lS5B-JFB4f",
        "colab_type": "code",
        "colab": {}
      },
      "source": [
        "#sets"
      ],
      "execution_count": null,
      "outputs": []
    },
    {
      "cell_type": "code",
      "metadata": {
        "id": "k_6zc17IFB4j",
        "colab_type": "code",
        "colab": {},
        "outputId": "3a0c9238-97d1-4e0a-d18c-611667d691f3"
      },
      "source": [
        "#returns can keep unique values only\n",
        "f= {1, 2, 2, 3}\n",
        "f.add(4)\n",
        "print(f)\n",
        "type(f)"
      ],
      "execution_count": null,
      "outputs": [
        {
          "output_type": "stream",
          "text": [
            "{1, 2, 3, 4}\n"
          ],
          "name": "stdout"
        },
        {
          "output_type": "execute_result",
          "data": {
            "text/plain": [
              "set"
            ]
          },
          "metadata": {
            "tags": []
          },
          "execution_count": 41
        }
      ]
    },
    {
      "cell_type": "code",
      "metadata": {
        "id": "I1RHt4xQFB4o",
        "colab_type": "code",
        "colab": {}
      },
      "source": [
        "# for and while"
      ],
      "execution_count": null,
      "outputs": []
    },
    {
      "cell_type": "code",
      "metadata": {
        "id": "Lanooy6gFB4r",
        "colab_type": "code",
        "colab": {},
        "outputId": "ac4db852-fa71-49e3-f5fa-77111d4fcc3c"
      },
      "source": [
        "list2 = (list(range (1, 5)))\n",
        "\n",
        "#to print each element of a list\n",
        "for element in list2:\n",
        "    print ( element)\n",
        "\n",
        "#instead of wriging pring (list2[0]) , print (list2[1]) and ... \n",
        "     "
      ],
      "execution_count": null,
      "outputs": [
        {
          "output_type": "stream",
          "text": [
            "1\n",
            "2\n",
            "3\n",
            "4\n"
          ],
          "name": "stdout"
        }
      ]
    },
    {
      "cell_type": "code",
      "metadata": {
        "id": "2je-35NcFB4t",
        "colab_type": "code",
        "colab": {},
        "outputId": "76a0322c-9797-4bf3-e2aa-3b207d01c240"
      },
      "source": [
        "#to sum each item of a list with for and while\n",
        "#with for\n",
        "total = 0\n",
        "for element in range (1, 1000):\n",
        "    total += element\n",
        "    #or -> total= total + element\n",
        "\n",
        "print (total)\n",
        "\n",
        "\n",
        "#same with while\n",
        "total2 = 0\n",
        "j=1\n",
        "while j <1000:\n",
        "    total2= total2 + j\n",
        "    j= j + 1\n",
        "print (total2)"
      ],
      "execution_count": null,
      "outputs": [
        {
          "output_type": "stream",
          "text": [
            "499500\n",
            "499500\n"
          ],
          "name": "stdout"
        }
      ]
    },
    {
      "cell_type": "code",
      "metadata": {
        "id": "SGX_eAjzFB4x",
        "colab_type": "code",
        "colab": {},
        "outputId": "2fd2a50e-bb73-4be4-c9b5-67e888328967"
      },
      "source": [
        "listx= list(range (1, 10))\n",
        "print (listx)"
      ],
      "execution_count": null,
      "outputs": [
        {
          "output_type": "stream",
          "text": [
            "[1, 2, 3, 4, 5, 6, 7, 8, 9]\n"
          ],
          "name": "stdout"
        }
      ]
    },
    {
      "cell_type": "code",
      "metadata": {
        "id": "LfZIsVueFB40",
        "colab_type": "code",
        "colab": {},
        "outputId": "86f3058d-06e5-4104-c533-d25e20d8f598"
      },
      "source": [
        "total = 0\n",
        "for element in listx:\n",
        "    if element % 3 == 0:\n",
        "        total = total + element\n",
        "print (total)"
      ],
      "execution_count": null,
      "outputs": [
        {
          "output_type": "stream",
          "text": [
            "18\n"
          ],
          "name": "stdout"
        }
      ]
    },
    {
      "cell_type": "code",
      "metadata": {
        "id": "iCYRdcEWFB43",
        "colab_type": "code",
        "colab": {},
        "outputId": "9dd0152a-32f9-48b5-d60d-0ccd9e58fb95"
      },
      "source": [
        "#summing up positive values of a list with for and while\n",
        "#using for 1\n",
        "list4 = [4, 2 , 1, 1 , 0, -1]\n",
        "total3 = 0\n",
        "for element in list4:\n",
        "    if element > 0:\n",
        "        total3 = total3 + element\n",
        "print (total3)\n",
        "\n",
        "\n",
        "#using for 2\n",
        "list4 = [4, 2 , 1, 1 , 0, -1]\n",
        "total3b = 0\n",
        "for element in list4:\n",
        "    if element <0:\n",
        "        break\n",
        "    total3b = total3b + element\n",
        "print (total3b)\n",
        "\n",
        "# using while \n",
        "list4 = [4, 2 , 1, 1 , 0, -1]\n",
        "total4 = 0\n",
        "i=0\n",
        "while len (list4) > i and list4[i] > 0 :\n",
        "    total4= total4 + list4[i]\n",
        "    i = i+1\n",
        "\n",
        "print (total4)\n",
        "    "
      ],
      "execution_count": null,
      "outputs": [
        {
          "output_type": "stream",
          "text": [
            "8\n",
            "8\n",
            "8\n"
          ],
          "name": "stdout"
        }
      ]
    },
    {
      "cell_type": "code",
      "metadata": {
        "id": "TGPhwdqKFB46",
        "colab_type": "code",
        "colab": {}
      },
      "source": [
        "#Dictionaries"
      ],
      "execution_count": null,
      "outputs": []
    },
    {
      "cell_type": "code",
      "metadata": {
        "id": "tAEZtjK6FB48",
        "colab_type": "code",
        "colab": {}
      },
      "source": [
        "#define an emply dictionary\n",
        "d = {}\n",
        "dic = {'Mehdi' : 1, 'Bita' : 2}"
      ],
      "execution_count": null,
      "outputs": []
    },
    {
      "cell_type": "code",
      "metadata": {
        "id": "qEz6XLqgFB4_",
        "colab_type": "code",
        "colab": {}
      },
      "source": [
        "d['Mehdi'] = 7\n",
        "d['Somi'] = 8\n",
        "d['Bita'] = 9"
      ],
      "execution_count": null,
      "outputs": []
    },
    {
      "cell_type": "code",
      "metadata": {
        "id": "aa1yTcmnFB5B",
        "colab_type": "code",
        "colab": {},
        "outputId": "ecfeca17-cb7f-4104-dc59-8c80a005a809"
      },
      "source": [
        "print (d)\n",
        "print (dic)"
      ],
      "execution_count": null,
      "outputs": [
        {
          "output_type": "stream",
          "text": [
            "{'Mehdi': 7, 'Somi': 8, 'Bita': 9}\n",
            "{'Mehdi': 1, 'Bita': 2}\n"
          ],
          "name": "stdout"
        }
      ]
    },
    {
      "cell_type": "code",
      "metadata": {
        "id": "HrkYWozUFB5F",
        "colab_type": "code",
        "colab": {}
      },
      "source": [
        "#class"
      ],
      "execution_count": null,
      "outputs": []
    },
    {
      "cell_type": "code",
      "metadata": {
        "id": "0TwK8keWFB5I",
        "colab_type": "code",
        "colab": {}
      },
      "source": [
        "class Robot:\n",
        "    def introduce_self (self):\n",
        "        print('My name is '+ self.name)"
      ],
      "execution_count": null,
      "outputs": []
    },
    {
      "cell_type": "code",
      "metadata": {
        "id": "J_OZ_-wsFB5L",
        "colab_type": "code",
        "colab": {}
      },
      "source": [
        "robot1 = Robot()\n",
        "robot2 = Robot ()\n",
        "robot1.name = 'Mehdi'\n",
        "robot2.name = 'Somi'"
      ],
      "execution_count": null,
      "outputs": []
    },
    {
      "cell_type": "code",
      "metadata": {
        "id": "8ykmKE3LFB5O",
        "colab_type": "code",
        "colab": {},
        "outputId": "c4829079-efd8-4565-d3ed-f8582cb3ea74"
      },
      "source": [
        "robot1.introduce_self ()\n",
        "robot2.introduce_self ()"
      ],
      "execution_count": null,
      "outputs": [
        {
          "output_type": "stream",
          "text": [
            "My name is Mehdi\n",
            "My name is Somi\n"
          ],
          "name": "stdout"
        }
      ]
    },
    {
      "cell_type": "code",
      "metadata": {
        "id": "zcri1P_lFB5R",
        "colab_type": "code",
        "colab": {}
      },
      "source": [
        "#or we can use construction to avoide spelling errors when difining objects\n",
        "\n",
        "class Robot:\n",
        "    def __init__(self, name, color, weight):\n",
        "        self.name = name\n",
        "        self.color = color\n",
        "        self.weight = weight\n",
        "    def introduce_self (self):\n",
        "        print ('My name is ' + self.name)"
      ],
      "execution_count": null,
      "outputs": []
    },
    {
      "cell_type": "code",
      "metadata": {
        "id": "e0AdUwvzFB5U",
        "colab_type": "code",
        "colab": {},
        "outputId": "9572285b-3222-4ae1-b8e7-04a2debc916d"
      },
      "source": [
        "\n",
        "robot1 = Robot ('Tom', 'red', '22')\n",
        "robot2 = Robot ('Jerry', 'blue', '32')\n",
        "robot1.introduce_self ()\n",
        "robot2.introduce_self ()"
      ],
      "execution_count": null,
      "outputs": [
        {
          "output_type": "stream",
          "text": [
            "My name is Tom\n",
            "My name is Jerry\n"
          ],
          "name": "stdout"
        }
      ]
    },
    {
      "cell_type": "code",
      "metadata": {
        "id": "GvDNZ6rXFB5X",
        "colab_type": "code",
        "colab": {}
      },
      "source": [
        "class Person:\n",
        "    def __init__ (self, name, personality, isSitting):\n",
        "        self.name = name\n",
        "        self.personality = personality\n",
        "        self.isSitting = isSitting\n",
        "        \n",
        "    def sitDown (self):\n",
        "        self.isSitting = True\n",
        "        \n",
        "    def standUp (self):\n",
        "        self.isSitting= False\n",
        "    "
      ],
      "execution_count": null,
      "outputs": []
    },
    {
      "cell_type": "code",
      "metadata": {
        "id": "nV3WrLUIFB5Z",
        "colab_type": "code",
        "colab": {}
      },
      "source": [
        "person1 = Person('Mehdi', 'Aggresive', False)\n",
        "person2 = Person ('Somi', 'Kind', True)\n"
      ],
      "execution_count": null,
      "outputs": []
    },
    {
      "cell_type": "code",
      "metadata": {
        "id": "juPsOKLsFB5c",
        "colab_type": "code",
        "colab": {}
      },
      "source": [
        "#if person 1 owns robot 2 and person 2 owns robot 1\n",
        "person1.robotOwned = robot2\n",
        "person2.robotOwned = robot1"
      ],
      "execution_count": null,
      "outputs": []
    },
    {
      "cell_type": "code",
      "metadata": {
        "id": "7mJ5p1czFB5f",
        "colab_type": "code",
        "colab": {},
        "outputId": "160f6250-0169-4cf2-e42d-80c77ee3d4d3"
      },
      "source": [
        "person1.robotOwned.introduce_self()"
      ],
      "execution_count": null,
      "outputs": [
        {
          "output_type": "stream",
          "text": [
            "My name is Jerry\n"
          ],
          "name": "stdout"
        }
      ]
    },
    {
      "cell_type": "code",
      "metadata": {
        "id": "O8BBldUMFB5i",
        "colab_type": "code",
        "colab": {}
      },
      "source": [
        "#boolean"
      ],
      "execution_count": null,
      "outputs": []
    }
  ]
}